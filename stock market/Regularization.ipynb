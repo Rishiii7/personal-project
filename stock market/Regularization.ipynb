{
 "cells": [
  {
   "attachments": {},
   "cell_type": "markdown",
   "metadata": {},
   "source": [
    "## Ridge and Lasso"
   ]
  },
  {
   "cell_type": "code",
   "execution_count": 12,
   "metadata": {},
   "outputs": [],
   "source": [
    "# importing libraries\n",
    "import numpy as np\n",
    "import pandas as pd\n",
    "import matplotlib.pyplot as plt\n",
    "import seaborn as sns\n",
    "from sklearn.linear_model import Lasso, Ridge\n",
    "from sklearn.model_selection import cross_val_score, train_test_split, GridSearchCV\n",
    "from sklearn.metrics import mean_squared_error"
   ]
  },
  {
   "cell_type": "code",
   "execution_count": 3,
   "metadata": {},
   "outputs": [
    {
     "data": {
      "text/html": [
       "<div>\n",
       "<style scoped>\n",
       "    .dataframe tbody tr th:only-of-type {\n",
       "        vertical-align: middle;\n",
       "    }\n",
       "\n",
       "    .dataframe tbody tr th {\n",
       "        vertical-align: top;\n",
       "    }\n",
       "\n",
       "    .dataframe thead th {\n",
       "        text-align: right;\n",
       "    }\n",
       "</style>\n",
       "<table border=\"1\" class=\"dataframe\">\n",
       "  <thead>\n",
       "    <tr style=\"text-align: right;\">\n",
       "      <th></th>\n",
       "      <th>CRIM</th>\n",
       "      <th>ZN</th>\n",
       "      <th>INDUS</th>\n",
       "      <th>CHAS</th>\n",
       "      <th>NOX</th>\n",
       "      <th>RM</th>\n",
       "      <th>AGE</th>\n",
       "      <th>DIS</th>\n",
       "      <th>RAD</th>\n",
       "      <th>TAX</th>\n",
       "      <th>PTRATIO</th>\n",
       "      <th>B</th>\n",
       "      <th>LSTAT</th>\n",
       "      <th>MEDV</th>\n",
       "    </tr>\n",
       "  </thead>\n",
       "  <tbody>\n",
       "    <tr>\n",
       "      <th>0</th>\n",
       "      <td>0.00632</td>\n",
       "      <td>18.0</td>\n",
       "      <td>2.31</td>\n",
       "      <td>0</td>\n",
       "      <td>0.538</td>\n",
       "      <td>6.575</td>\n",
       "      <td>65.2</td>\n",
       "      <td>4.0900</td>\n",
       "      <td>1</td>\n",
       "      <td>296.0</td>\n",
       "      <td>15.3</td>\n",
       "      <td>396.90</td>\n",
       "      <td>4.98</td>\n",
       "      <td>24.0</td>\n",
       "    </tr>\n",
       "    <tr>\n",
       "      <th>1</th>\n",
       "      <td>0.02731</td>\n",
       "      <td>0.0</td>\n",
       "      <td>7.07</td>\n",
       "      <td>0</td>\n",
       "      <td>0.469</td>\n",
       "      <td>6.421</td>\n",
       "      <td>78.9</td>\n",
       "      <td>4.9671</td>\n",
       "      <td>2</td>\n",
       "      <td>242.0</td>\n",
       "      <td>17.8</td>\n",
       "      <td>396.90</td>\n",
       "      <td>9.14</td>\n",
       "      <td>21.6</td>\n",
       "    </tr>\n",
       "    <tr>\n",
       "      <th>2</th>\n",
       "      <td>0.02729</td>\n",
       "      <td>0.0</td>\n",
       "      <td>7.07</td>\n",
       "      <td>0</td>\n",
       "      <td>0.469</td>\n",
       "      <td>7.185</td>\n",
       "      <td>61.1</td>\n",
       "      <td>4.9671</td>\n",
       "      <td>2</td>\n",
       "      <td>242.0</td>\n",
       "      <td>17.8</td>\n",
       "      <td>392.83</td>\n",
       "      <td>4.03</td>\n",
       "      <td>34.7</td>\n",
       "    </tr>\n",
       "    <tr>\n",
       "      <th>3</th>\n",
       "      <td>0.03237</td>\n",
       "      <td>0.0</td>\n",
       "      <td>2.18</td>\n",
       "      <td>0</td>\n",
       "      <td>0.458</td>\n",
       "      <td>6.998</td>\n",
       "      <td>45.8</td>\n",
       "      <td>6.0622</td>\n",
       "      <td>3</td>\n",
       "      <td>222.0</td>\n",
       "      <td>18.7</td>\n",
       "      <td>394.63</td>\n",
       "      <td>2.94</td>\n",
       "      <td>33.4</td>\n",
       "    </tr>\n",
       "    <tr>\n",
       "      <th>4</th>\n",
       "      <td>0.06905</td>\n",
       "      <td>0.0</td>\n",
       "      <td>2.18</td>\n",
       "      <td>0</td>\n",
       "      <td>0.458</td>\n",
       "      <td>7.147</td>\n",
       "      <td>54.2</td>\n",
       "      <td>6.0622</td>\n",
       "      <td>3</td>\n",
       "      <td>222.0</td>\n",
       "      <td>18.7</td>\n",
       "      <td>396.90</td>\n",
       "      <td>5.33</td>\n",
       "      <td>36.2</td>\n",
       "    </tr>\n",
       "  </tbody>\n",
       "</table>\n",
       "</div>"
      ],
      "text/plain": [
       "      CRIM    ZN  INDUS  CHAS    NOX     RM   AGE     DIS  RAD    TAX  \\\n",
       "0  0.00632  18.0   2.31     0  0.538  6.575  65.2  4.0900    1  296.0   \n",
       "1  0.02731   0.0   7.07     0  0.469  6.421  78.9  4.9671    2  242.0   \n",
       "2  0.02729   0.0   7.07     0  0.469  7.185  61.1  4.9671    2  242.0   \n",
       "3  0.03237   0.0   2.18     0  0.458  6.998  45.8  6.0622    3  222.0   \n",
       "4  0.06905   0.0   2.18     0  0.458  7.147  54.2  6.0622    3  222.0   \n",
       "\n",
       "   PTRATIO       B  LSTAT  MEDV  \n",
       "0     15.3  396.90   4.98  24.0  \n",
       "1     17.8  396.90   9.14  21.6  \n",
       "2     17.8  392.83   4.03  34.7  \n",
       "3     18.7  394.63   2.94  33.4  \n",
       "4     18.7  396.90   5.33  36.2  "
      ]
     },
     "execution_count": 3,
     "metadata": {},
     "output_type": "execute_result"
    }
   ],
   "source": [
    "# specifiying column names\n",
    "columns = ['CRIM','ZN', 'INDUS','CHAS', 'NOX', 'RM','AGE','DIS','RAD','TAX','PTRATIO','B','LSTAT','MEDV']\n",
    "\n",
    "# reading the dataset\n",
    "boston_data = pd.read_csv(\"housing.csv.xls\" , delimiter=r\"\\s+\", header=None, names=columns)\n",
    "\n",
    "# printing dataset\n",
    "boston_data.head()"
   ]
  },
  {
   "cell_type": "code",
   "execution_count": 4,
   "metadata": {},
   "outputs": [],
   "source": [
    "# seperating dependent and independent variables\n",
    "X = boston_data.drop('MEDV' , axis=1)\n",
    "y =boston_data['MEDV']"
   ]
  },
  {
   "attachments": {},
   "cell_type": "markdown",
   "metadata": {},
   "source": [
    "## Calculating Lambda parameter "
   ]
  },
  {
   "attachments": {},
   "cell_type": "markdown",
   "metadata": {},
   "source": [
    "#### 1. Cross validation"
   ]
  },
  {
   "cell_type": "code",
   "execution_count": 10,
   "metadata": {},
   "outputs": [
    {
     "data": {
      "image/png": "[encoded data removed]",
      "text/plain": [
       "<Figure size 640x480 with 1 Axes>"
      ]
     },
     "metadata": {},
     "output_type": "display_data"
    }
   ],
   "source": [
    "# setting up different lambda values\n",
    "lambdas = np.logspace(-5,5,1000)\n",
    "\n",
    "# create emptty list to store the cross validation score\n",
    "ridge_score = []\n",
    "lasso_score = []\n",
    "\n",
    "# perfome ridge and lasso regression on each lambda\n",
    "for lambda_val in lambdas:\n",
    "    ridge = Ridge(alpha=lambda_val)\n",
    "    lasso = Lasso(alpha=lambda_val)\n",
    "\n",
    "    # storing scores\n",
    "    ridge_score.append(np.mean(cross_val_score(ridge , X, y, cv=10)))\n",
    "    lasso_score.append(np.mean( cross_val_score (lasso , X, y, cv=10)))\n",
    "\n",
    "# Plot the cross-validation scores for Ridge and Lasso regression\n",
    "\n",
    "plt.plot(lambdas, ridge_score, label='Ridge')\n",
    "plt.plot(lambdas, lasso_score, label='Lasso')\n",
    "plt.xlabel('Lambda')\n",
    "plt.ylabel('Cross-validation score')\n",
    "plt.legend()\n",
    "plt.show()"
   ]
  },
  {
   "cell_type": "code",
   "execution_count": 11,
   "metadata": {},
   "outputs": [
    {
     "name": "stdout",
     "output_type": "stream",
     "text": [
      "Optimal lambda value for Ridge regression: 44.324785912404\n",
      "Optimal lambda value for Lasso regression: 0.31952475057592133\n"
     ]
    }
   ],
   "source": [
    "# Find the optimal lambda value for Ridge and Lasso regression\n",
    "optimal_ridge_lambda = lambdas[np.argmax(ridge_score)]\n",
    "optimal_lasso_lambda = lambdas[np.argmax(lasso_score)]\n",
    "\n",
    "print('Optimal lambda value for Ridge regression:', optimal_ridge_lambda)\n",
    "print('Optimal lambda value for Lasso regression:', optimal_lasso_lambda)"
   ]
  },
  {
   "attachments": {},
   "cell_type": "markdown",
   "metadata": {},
   "source": [
    "#### 2. Grid Seaarch"
   ]
  },
  {
   "cell_type": "code",
   "execution_count": 16,
   "metadata": {},
   "outputs": [
    {
     "name": "stdout",
     "output_type": "stream",
     "text": [
      "Best lambda value for Lasso regression:  {'alpha': 1e-05}\n",
      "Mean squared error for Lasso regression:  24.291092319775505\n",
      "Best lambda value for Ridge regression:  {'alpha': 1e-05}\n",
      "Mean squared error for Ridge regression:  24.291120053918714\n"
     ]
    }
   ],
   "source": [
    "# Split the dataset into training and testing sets\n",
    "X_train, X_test, y_train, y_test = train_test_split(X,y,test_size=0.2 , random_state=42)\n",
    "\n",
    "# creating range of lambda values\n",
    "lambdas = np.logspace(-5,5,1000)\n",
    "\n",
    "# perform Grid Search on Lasso Regression\n",
    "lasso = Lasso()\n",
    "grid_search_lasso = GridSearchCV(lasso, param_grid={'alpha' : lambdas},cv=10)\n",
    "grid_search_lasso.fit(X_train, y_train)\n",
    "\n",
    "# Evaluating performance on lasso\n",
    "y_predict_lasso = grid_search_lasso.predict(X_test)\n",
    "mse_lasso = mean_squared_error(y_test , y_predict_lasso)\n",
    "\n",
    "print(\"Best lambda value for Lasso regression: \", grid_search_lasso.best_params_)\n",
    "print(\"Mean squared error for Lasso regression: \", mse_lasso)\n",
    "\n",
    "# perform Grid Search no Ridge Regression\n",
    "ridge = Ridge()\n",
    "grid_search_ridge = GridSearchCV(ridge , param_grid={'alpha' : lambdas} , cv=10)\n",
    "grid_search_ridge.fit(X_train , y_train)\n",
    "\n",
    "# Evaluating performance on Ridge\n",
    "y_predict_ridge = grid_search_ridge.predict(X_test)\n",
    "mse_ridge = mean_squared_error(y_test, y_predict_ridge)\n",
    "\n",
    "print(\"Best lambda value for Ridge regression: \", grid_search_ridge.best_params_)\n",
    "print(\"Mean squared error for Ridge regression: \", mse_ridge)"
   ]
  },
  {
   "cell_type": "code",
   "execution_count": null,
   "metadata": {},
   "outputs": [],
   "source": []
  }
 ],
 "metadata": {
  "kernelspec": {
   "display_name": "port",
   "language": "python",
   "name": "python3"
  },
  "language_info": {
   "codemirror_mode": {
    "name": "ipython",
    "version": 3
   },
   "file_extension": ".py",
   "mimetype": "text/x-python",
   "name": "python",
   "nbconvert_exporter": "python",
   "pygments_lexer": "ipython3",
   "version": "3.9.6"
  },
  "orig_nbformat": 4,
  "vscode": {
   "interpreter": {
    "hash": "bb07492b55a5bf4f79d40b5af500577bc4b38c5d355ad97468747567e7aa8eb3"
   }
  }
 },
 "nbformat": 4,
 "nbformat_minor": 2
}
